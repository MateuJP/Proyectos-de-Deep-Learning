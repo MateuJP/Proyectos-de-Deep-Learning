{
  "nbformat": 4,
  "nbformat_minor": 0,
  "metadata": {
    "colab": {
      "provenance": [],
      "gpuType": "T4"
    },
    "kernelspec": {
      "name": "python3",
      "display_name": "Python 3"
    },
    "language_info": {
      "name": "python"
    },
    "accelerator": "GPU"
  },
  "cells": [
    {
      "cell_type": "code",
      "execution_count": 1,
      "metadata": {
        "colab": {
          "base_uri": "https://localhost:8080/"
        },
        "id": "BfUmcSFx1Hf-",
        "outputId": "10320c78-c763-4d24-f1e7-000d92b8ccf0"
      },
      "outputs": [
        {
          "output_type": "stream",
          "name": "stdout",
          "text": [
            "Colab only includes TensorFlow 2.x; %tensorflow_version has no effect.\n",
            "2.12.0\n"
          ]
        }
      ],
      "source": [
        "%tensorflow_version 2.x\n",
        "import tensorflow as tf\n",
        "from tensorflow import keras\n",
        "\n",
        "import numpy as np\n",
        "import matplotlib.pyplot as plt\n",
        "\n",
        "print(tf.__version__)\n"
      ]
    },
    {
      "cell_type": "markdown",
      "source": [
        "# **5.1 Precarga de los datos en Keras**\n",
        "\n"
      ],
      "metadata": {
        "id": "rXI-FubD1smx"
      }
    },
    {
      "cell_type": "code",
      "source": [
        "mnist=tf.keras.datasets.mnist\n",
        "(x_train,y_train),(x_test,y_test)=mnist.load_data();"
      ],
      "metadata": {
        "colab": {
          "base_uri": "https://localhost:8080/"
        },
        "id": "lNJvFUu4187h",
        "outputId": "38390c69-115a-404c-e821-3d333864c0ee"
      },
      "execution_count": 2,
      "outputs": [
        {
          "output_type": "stream",
          "name": "stdout",
          "text": [
            "Downloading data from https://storage.googleapis.com/tensorflow/tf-keras-datasets/mnist.npz\n",
            "11490434/11490434 [==============================] - 1s 0us/step\n"
          ]
        }
      ]
    },
    {
      "cell_type": "code",
      "source": [
        "import matplotlib.pyplot as plt\n",
        "# Mostramos la muestra número 8 de nuestro conjunto de datos\n",
        "plt.imshow(x_train[8],cmap=plt.cm.binary)"
      ],
      "metadata": {
        "colab": {
          "base_uri": "https://localhost:8080/",
          "height": 447
        },
        "id": "1lc8s_4c21Qy",
        "outputId": "72012724-37f3-43c0-ca0f-cc5abc97be44"
      },
      "execution_count": 3,
      "outputs": [
        {
          "output_type": "execute_result",
          "data": {
            "text/plain": [
              "<matplotlib.image.AxesImage at 0x7d6d3d63d0c0>"
            ]
          },
          "metadata": {},
          "execution_count": 3
        },
        {
          "output_type": "display_data",
          "data": {
            "text/plain": [
              "<Figure size 640x480 with 1 Axes>"
            ],
            "image/png": "[encoded data removed]"
          },
          "metadata": {}
        }
      ]
    },
    {
      "cell_type": "markdown",
      "source": [
        "Mostramos la etiqueta que le corresponde a la muestra 8, como se trata de un aprendizaje supervisado, los datos de entrenamiento tiene que estar etiquetados."
      ],
      "metadata": {
        "id": "J1hBbFGL3WKg"
      }
    },
    {
      "cell_type": "code",
      "source": [
        "print(y_train[8])"
      ],
      "metadata": {
        "colab": {
          "base_uri": "https://localhost:8080/"
        },
        "id": "V4T21gzN3eNQ",
        "outputId": "ecbb28df-c70f-40dd-f5f9-a71a996d14b4"
      },
      "execution_count": 4,
      "outputs": [
        {
          "output_type": "stream",
          "name": "stdout",
          "text": [
            "1\n"
          ]
        }
      ]
    },
    {
      "cell_type": "code",
      "source": [
        "print(x_train.ndim)"
      ],
      "metadata": {
        "colab": {
          "base_uri": "https://localhost:8080/"
        },
        "id": "eUPXyy3r3h_4",
        "outputId": "167cb6f4-5281-42e6-bfc1-155755fd1b52"
      },
      "execution_count": 5,
      "outputs": [
        {
          "output_type": "stream",
          "name": "stdout",
          "text": [
            "3\n"
          ]
        }
      ]
    },
    {
      "cell_type": "code",
      "source": [
        "print(x_train.shape)"
      ],
      "metadata": {
        "colab": {
          "base_uri": "https://localhost:8080/"
        },
        "id": "5YJelppn3mz9",
        "outputId": "e3c86f38-731f-4d30-c23d-86fa3cbae067"
      },
      "execution_count": 6,
      "outputs": [
        {
          "output_type": "stream",
          "name": "stdout",
          "text": [
            "(60000, 28, 28)\n"
          ]
        }
      ]
    },
    {
      "cell_type": "markdown",
      "source": [
        "Podemos ver como nuestro conjunto de entrenamiento, esta formado por\n",
        "60000 matrices 2D de 28x28 pixeles, si en lugar de estar en blanco y negro, fuesen imagenes de color tendriamos un campo mas, el canal que represneraria el color de la imagen.\n",
        "\n",
        ">\n",
        "En General la estructura que encontraremos para imagenes  es **(samples,height,width,chnels)**, para videos la estructura general que vamos a encontrar es **(samples,frames,height,width,channels)**"
      ],
      "metadata": {
        "id": "CQVzVo7-35Js"
      }
    },
    {
      "cell_type": "code",
      "source": [
        "subset=x_train[1:100:,:]\n",
        "print(subset.shape)"
      ],
      "metadata": {
        "colab": {
          "base_uri": "https://localhost:8080/"
        },
        "id": "WCVQ5hQw41j-",
        "outputId": "5bd0535c-3b5e-47e5-e5f3-5619e9efc233"
      },
      "execution_count": 7,
      "outputs": [
        {
          "output_type": "stream",
          "name": "stdout",
          "text": [
            "(99, 28, 28)\n"
          ]
        }
      ]
    },
    {
      "cell_type": "markdown",
      "source": [
        "# **5.2 Preprocesado de Datos**\n",
        "\n",
        ">\n",
        "En general, siempre hay un proceso de preprocesamiento de datos, con el objetivo de adaptarlos a un formato que permita un mejor aprovechamiento de estos por parte de las redes neuronales\n",
        "Algunos ejemplos son :\n",
        "\n",
        "\n",
        "1.   Vectroización\n",
        "2.   Normalización\n",
        "3.   Extracción de características\n",
        "\n",
        "\n"
      ],
      "metadata": {
        "id": "8R05AQYjqFYZ"
      }
    },
    {
      "cell_type": "markdown",
      "source": [
        "En nuestro caso, tenemos imagenes de 28x28 píxeles que se representan como una matriz de números entre [0,255] de tipo uint8.\n",
        "En nuestro caso, lo que vamos a hacer va a ser **escalar los valores de entrada** para la red neuronal para obtener un mejor rendimiento.\n",
        "Los vamos a escalar a valores de tipo float32 dentro de un rango [0,1]"
      ],
      "metadata": {
        "id": "-XaRg60Vq3HY"
      }
    },
    {
      "cell_type": "code",
      "source": [
        "x_train=x_train.astype('float32')\n",
        "x_test=x_test.astype('float32')\n",
        "x_train/=255\n",
        "x_test/=255"
      ],
      "metadata": {
        "id": "E0AyW6M0riQg"
      },
      "execution_count": 8,
      "outputs": []
    },
    {
      "cell_type": "markdown",
      "source": [
        "El siguente cambio, consiste en cambiar la **forma de los tensores**.\n",
        "Vamos a transformar el tensor entrada(imagen) de 2D a un vector de 1D, es decir la matriz de 28x28 píxeles se puede representar con un array de 784 números"
      ],
      "metadata": {
        "id": "8MSVsArYr9dO"
      }
    },
    {
      "cell_type": "code",
      "source": [
        "print(x_train.shape)"
      ],
      "metadata": {
        "colab": {
          "base_uri": "https://localhost:8080/"
        },
        "id": "RGP5n4ZOsbMY",
        "outputId": "f3905f17-9756-4f34-f668-ce73feb6c109"
      },
      "execution_count": 10,
      "outputs": [
        {
          "output_type": "stream",
          "name": "stdout",
          "text": [
            "(60000, 28, 28)\n"
          ]
        }
      ]
    },
    {
      "cell_type": "code",
      "source": [
        "print(x_test.shape)"
      ],
      "metadata": {
        "colab": {
          "base_uri": "https://localhost:8080/"
        },
        "id": "-lm2JsHlshth",
        "outputId": "9dc08ec6-313a-4c0a-f4c6-b50bbc7911f1"
      },
      "execution_count": 11,
      "outputs": [
        {
          "output_type": "stream",
          "name": "stdout",
          "text": [
            "(10000, 28, 28)\n"
          ]
        }
      ]
    },
    {
      "cell_type": "code",
      "source": [
        "x_train=x_train.reshape(60000,784)\n",
        "x_test=x_test.reshape(10000,784)\n",
        "print(x_train.shape)\n",
        "print(x_test.shape)"
      ],
      "metadata": {
        "colab": {
          "base_uri": "https://localhost:8080/"
        },
        "id": "9TCodw1psmKI",
        "outputId": "59cb4118-2423-4ede-8ad5-a106d0821aab"
      },
      "execution_count": 12,
      "outputs": [
        {
          "output_type": "stream",
          "name": "stdout",
          "text": [
            "(60000, 784)\n",
            "(10000, 784)\n"
          ]
        }
      ]
    },
    {
      "cell_type": "markdown",
      "source": [
        "El siguiente cambio que debemos realizar, consiste en modificar las etiquetas que tenemos. Actualmente una etiqueta es un número entre 0 y 9 que representa la clase a la que corresponde el dígito, nuestro objetivo es convertir la etqiqueta en un vector de 10 posiciones , con 0 en todas las poisciones, excepto en el indice del dígito que tendremos un uno, esto se conoce como, codificación one-hot"
      ],
      "metadata": {
        "id": "RHvNsQkat2-s"
      }
    },
    {
      "cell_type": "code",
      "source": [
        "from tensorflow.keras.utils import to_categorical"
      ],
      "metadata": {
        "id": "TcScqtult2oj"
      },
      "execution_count": 13,
      "outputs": []
    },
    {
      "cell_type": "code",
      "source": [
        "print(y_train[0])"
      ],
      "metadata": {
        "colab": {
          "base_uri": "https://localhost:8080/"
        },
        "id": "bMeh_LOEuerE",
        "outputId": "012153e7-1278-44ad-bcc0-8556d2616819"
      },
      "execution_count": 14,
      "outputs": [
        {
          "output_type": "stream",
          "name": "stdout",
          "text": [
            "5\n"
          ]
        }
      ]
    },
    {
      "cell_type": "code",
      "source": [
        "print(y_test[0])"
      ],
      "metadata": {
        "colab": {
          "base_uri": "https://localhost:8080/"
        },
        "id": "LHE8p0NUubZS",
        "outputId": "5b36be8a-8454-49fc-a64a-6e4b0c164bf5"
      },
      "execution_count": 15,
      "outputs": [
        {
          "output_type": "stream",
          "name": "stdout",
          "text": [
            "7\n"
          ]
        }
      ]
    },
    {
      "cell_type": "code",
      "source": [
        "print(y_train.shape)"
      ],
      "metadata": {
        "colab": {
          "base_uri": "https://localhost:8080/"
        },
        "id": "4DDEVsNFuhW0",
        "outputId": "66fbe974-03aa-4c54-bc54-d0e64ee5e7a8"
      },
      "execution_count": 16,
      "outputs": [
        {
          "output_type": "stream",
          "name": "stdout",
          "text": [
            "(60000,)\n"
          ]
        }
      ]
    },
    {
      "cell_type": "code",
      "source": [
        "print(y_test.shape)"
      ],
      "metadata": {
        "colab": {
          "base_uri": "https://localhost:8080/"
        },
        "id": "vWLkl7gaupGq",
        "outputId": "cf2344d4-ee58-4d8f-9072-8b9d654e494b"
      },
      "execution_count": 17,
      "outputs": [
        {
          "output_type": "stream",
          "name": "stdout",
          "text": [
            "(10000,)\n"
          ]
        }
      ]
    },
    {
      "cell_type": "code",
      "source": [
        "y_train=to_categorical(y_train,num_classes=10)\n",
        "y_test=to_categorical(y_test,num_classes=10);\n",
        "print(y_train[0])\n",
        "print(y_test[0])"
      ],
      "metadata": {
        "colab": {
          "base_uri": "https://localhost:8080/"
        },
        "id": "q-nV08q6usEW",
        "outputId": "1d8e3fd4-56d0-45e6-bf8e-0fcac1127eed"
      },
      "execution_count": 18,
      "outputs": [
        {
          "output_type": "stream",
          "name": "stdout",
          "text": [
            "[0. 0. 0. 0. 0. 1. 0. 0. 0. 0.]\n",
            "[0. 0. 0. 0. 0. 0. 0. 1. 0. 0.]\n"
          ]
        }
      ]
    },
    {
      "cell_type": "markdown",
      "source": [
        "# **5.3 Definiendo el Modelo**\n",
        ">\n",
        "En este ejemplo, usaremos la estructura básica de Keras, la clase Sequential, que nos permitirá crear una red neurnonal básica.\n",
        "Nuestro modelo, va a estar formado por 2 capas, en cada una tenedremos 10 neuronas.\n",
        ">\n",
        "La primera capa, impementará la función de activación sigmoide y va a recibir 784 entradas, una para cada uno de los 784 píxeles de la imagen.\n",
        "\n",
        ">\n",
        "La seguna capa, implementará la función de activación softmax, es decir, devolverá una matriz de 10 valores de probabilidad que represetan los 10 digitos posibles, y va a recibir las salidas de la capa anterior, está capa también contará con 10 neuronas.\n",
        ">\n",
        "En general, la capa de salida tendrá tantas neuronas como clases, excepto en una clasificación binaria, que solo necestia una neurona.\n"
      ],
      "metadata": {
        "id": "zAnco-Z7xfyT"
      }
    },
    {
      "cell_type": "code",
      "source": [
        "from tensorflow.keras import Sequential\n",
        "from tensorflow.keras.layers import Dense\n",
        "model = Sequential()\n",
        "model.add(Dense(10,activation='sigmoid',input_shape=(784,)))\n",
        "model.add(Dense(10,activation='softmax'))\n",
        "model.summary()"
      ],
      "metadata": {
        "colab": {
          "base_uri": "https://localhost:8080/"
        },
        "id": "wSFe5UYkzSBQ",
        "outputId": "7c67480f-b8aa-418f-f577-d605ec7d01e6"
      },
      "execution_count": 21,
      "outputs": [
        {
          "output_type": "stream",
          "name": "stdout",
          "text": [
            "Model: \"sequential_2\"\n",
            "_________________________________________________________________\n",
            " Layer (type)                Output Shape              Param #   \n",
            "=================================================================\n",
            " dense_4 (Dense)             (None, 10)                7850      \n",
            "                                                                 \n",
            " dense_5 (Dense)             (None, 10)                110       \n",
            "                                                                 \n",
            "=================================================================\n",
            "Total params: 7,960\n",
            "Trainable params: 7,960\n",
            "Non-trainable params: 0\n",
            "_________________________________________________________________\n"
          ]
        }
      ]
    },
    {
      "cell_type": "markdown",
      "source": [
        "Podemos observar que para realizar este ejemplo, necesitamos 7960 parámetros, veamos de donde salen.\n",
        ">\n",
        "En la primera capa, tenemos 784 entradas, como hay 10 neuronas, tenemos 784+784+784+...+784 = 10*784 = 7840, pero hay que sumarle el bias, por lo tanto, 7840+1+1+1+1+...+1= 7840+10=7850.\n",
        ">\n",
        "En la segunda capa, cada neurona recibe la salida de las neuronas de la capa anterior, es decir cada una recibe 10 entradas, luego tenemos 10+10+...+10 = 10 * 10 = 100 parámetros, mas 10 de bias son 110.\n",
        ">\n",
        "En total tenemos 7850+110 = 7960 parámetros\n"
      ],
      "metadata": {
        "id": "nyt_3sr83i-7"
      }
    },
    {
      "cell_type": "markdown",
      "source": [
        "# **5.4 Configuración del proceso de aprendizaje**\n",
        ">\n",
        "El método compile nos permite configurar los parámetros para entrenar el modelo.\n",
        "En  trabajos posteriores entreaemos mas en detalle sobre estos parámetros, otros parámetros que podemos usar y el impacto que estos tienen sobre el resultado final.\n",
        ">\n",
        "En el ejemplo, los parámetros que usamos son\n",
        "\n",
        "*   loss = categorical_crossentropy\n",
        "*   optimizer=sgd(stocastic gradient descendent)\n",
        "*   metrics=accuracy, son las métricas que usamos para monitorear el arpendizaje\n",
        "\n",
        "\n",
        "\n",
        "\n"
      ],
      "metadata": {
        "id": "XffcA0EMACAU"
      }
    },
    {
      "cell_type": "code",
      "source": [
        "model.compile(loss=\"categorical_crossentropy\",\n",
        "              optimizer = \"sgd\",\n",
        "              metrics = ['accuracy'])"
      ],
      "metadata": {
        "id": "KlLhChLTBCnd"
      },
      "execution_count": 22,
      "outputs": []
    },
    {
      "cell_type": "markdown",
      "source": [
        "# **5.5 Entrenamiento**\n",
        ">\n",
        "Para entrenar un modelo, debemos incocar el método fit.\n",
        "La idea intuitiva es la siguiente, con el algoritmo que hemos especificado en la declaración del modelo, en nuestro caso sgd,escojemos datos del conjunto de entrenamiento x_train y los pasamos a la red neuronal para comparar el resultado obtenido con el esperado, indicado en y_train, y calculamos la loss con la función que habiamos definido en el modelo, el objetivo será ajustar el valor de los pesps y el sesgo para reducir la perdida, este proceso lo repetimos iterativamente, hasta que hemos conseguido ajustar los valores del peso y del sesgo."
      ],
      "metadata": {
        "id": "iQfaHyU_BuyG"
      }
    },
    {
      "cell_type": "code",
      "source": [
        "model.fit(x_train,y_train,epochs=8);"
      ],
      "metadata": {
        "colab": {
          "base_uri": "https://localhost:8080/"
        },
        "id": "1pRukMXMC6Ta",
        "outputId": "9803450f-a819-404e-c0d8-45c0de4ad41c"
      },
      "execution_count": 24,
      "outputs": [
        {
          "output_type": "stream",
          "name": "stdout",
          "text": [
            "Epoch 1/8\n",
            "1875/1875 [==============================] - 5s 3ms/step - loss: 0.5868 - accuracy: 0.8638\n",
            "Epoch 2/8\n",
            "1875/1875 [==============================] - 5s 3ms/step - loss: 0.5352 - accuracy: 0.8722\n",
            "Epoch 3/8\n",
            "1875/1875 [==============================] - 6s 3ms/step - loss: 0.4964 - accuracy: 0.8791\n",
            "Epoch 4/8\n",
            "1875/1875 [==============================] - 5s 3ms/step - loss: 0.4664 - accuracy: 0.8853\n",
            "Epoch 5/8\n",
            "1875/1875 [==============================] - 6s 3ms/step - loss: 0.4428 - accuracy: 0.8888\n",
            "Epoch 6/8\n",
            "1875/1875 [==============================] - 5s 3ms/step - loss: 0.4238 - accuracy: 0.8918\n",
            "Epoch 7/8\n",
            "1875/1875 [==============================] - 6s 3ms/step - loss: 0.4084 - accuracy: 0.8940\n",
            "Epoch 8/8\n",
            "1875/1875 [==============================] - 5s 3ms/step - loss: 0.3953 - accuracy: 0.8967\n"
          ]
        }
      ]
    },
    {
      "cell_type": "markdown",
      "source": [
        "# **5.6 Evaluación del modelo**\n",
        ">\n",
        "Una vez hemos entrenado el modelo, vamos a pasarle entradas que aun no ha visto y montirizar su rendimiento, el objetivo será ver la precisión del modelo, esto es para este ejmplo particular, en otros ejemplos será necesario ver otras metricas y que la precisión por si sola puede no ser suficiente.\n",
        ">\n",
        "Recordemos que precisión, accuracy representa el numero de muestras que han sido clasificadas correctamente, dependiendo del caso nos será necesarió estudidar también los falsos negativos o falsos positivos.\n"
      ],
      "metadata": {
        "id": "INMfATePDaXw"
      }
    },
    {
      "cell_type": "code",
      "source": [
        "test_loss,test_acc=model.evaluate(x_test,y_test)\n",
        "print('Test accuracy : ', test_acc)"
      ],
      "metadata": {
        "colab": {
          "base_uri": "https://localhost:8080/"
        },
        "id": "ywJkxvrcMMBF",
        "outputId": "cf82bafb-4866-4440-eca7-2428a823cd5a"
      },
      "execution_count": 25,
      "outputs": [
        {
          "output_type": "stream",
          "name": "stdout",
          "text": [
            "313/313 [==============================] - 1s 3ms/step - loss: 0.3796 - accuracy: 0.9009\n",
            "Test accuracy :  0.9009000062942505\n"
          ]
        }
      ]
    },
    {
      "cell_type": "code",
      "source": [
        "# Look at confusion matrix\n",
        "#Note, this code is taken straight from the SKLEARN website, an nice way of viewing confusion matrix.\n",
        "def plot_confusion_matrix(cm, classes,\n",
        "                          normalize=False,\n",
        "                          title='Confusion matrix',\n",
        "                          cmap=plt.cm.Blues):\n",
        "    \"\"\"\n",
        "    This function prints and plots the confusion matrix.\n",
        "    Normalization can be applied by setting `normalize=True`.\n",
        "    \"\"\"\n",
        "    plt.imshow(cm, interpolation='nearest', cmap=cmap)\n",
        "    plt.title(title)\n",
        "    plt.colorbar()\n",
        "    tick_marks = np.arange(len(classes))\n",
        "    plt.xticks(tick_marks, classes, rotation=45)\n",
        "    plt.yticks(tick_marks, classes)\n",
        "\n",
        "    if normalize:\n",
        "        cm = cm.astype('float') / cm.sum(axis=1)[:, np.newaxis]\n",
        "\n",
        "    thresh = cm.max() / 2.\n",
        "    for i, j in itertools.product(range(cm.shape[0]), range(cm.shape[1])):\n",
        "        plt.text(j, i, cm[i, j],\n",
        "                 horizontalalignment=\"center\",\n",
        "                 color=\"white\" if cm[i, j] > thresh else \"black\")\n",
        "\n",
        "    plt.tight_layout()\n",
        "    plt.ylabel('Observación')\n",
        "    plt.xlabel('Predicción')"
      ],
      "metadata": {
        "id": "RfCl70e5MiwC"
      },
      "execution_count": 26,
      "outputs": []
    },
    {
      "cell_type": "code",
      "source": [
        "from collections import Counter\n",
        "from sklearn.metrics import confusion_matrix\n",
        "import itertools\n",
        "\n",
        "Y_pred = model.predict(x_test)\n",
        "Y_pred_classes = np.argmax(Y_pred, axis = 1)\n",
        "Y_true = np.argmax(y_test, axis = 1)\n",
        "confusion_mtx = confusion_matrix(Y_true, Y_pred_classes)\n",
        "plot_confusion_matrix(confusion_mtx, classes = range(10))"
      ],
      "metadata": {
        "colab": {
          "base_uri": "https://localhost:8080/",
          "height": 523
        },
        "id": "gXht9GHsMkmV",
        "outputId": "3ec4a88e-1c3e-4f23-a328-6dabe1b6303f"
      },
      "execution_count": 27,
      "outputs": [
        {
          "output_type": "stream",
          "name": "stdout",
          "text": [
            "313/313 [==============================] - 1s 2ms/step\n"
          ]
        },
        {
          "output_type": "display_data",
          "data": {
            "text/plain": [
              "<Figure size 640x480 with 2 Axes>"
            ],
            "image/png": "[encoded data removed]"
          },
          "metadata": {}
        }
      ]
    },
    {
      "cell_type": "markdown",
      "source": [
        "Recordemos como se lee esta matriz de confusión.\n",
        "Podemos ver que m[0,2]=3, esto quiere decir que hay 3 0 que han sido clasificados como 2, para el 0 esto son 3 falsos negativos, ya que ha dicho que no era un 0 cuando si lo es y para el 2 son 3 falsos positivos, porque ha dichi que si que es un 2 cuando no lo es."
      ],
      "metadata": {
        "id": "zS4faYa1M8LX"
      }
    },
    {
      "cell_type": "markdown",
      "source": [
        "# **5.7 Generación de predicciones**\n",
        "\n",
        "Una vez hemos entrenado el modelo, estamos en condiciones de realizar predicciones con nuevos datos de entrada, para ello debemos usar el método predict."
      ],
      "metadata": {
        "id": "pG5Hw_TTNZJE"
      }
    },
    {
      "cell_type": "code",
      "source": [
        "x_test_old = x_test.reshape(10000, 28,28)\n",
        "plt.imshow(x_test_old[11], cmap=plt.cm.binary)\n"
      ],
      "metadata": {
        "colab": {
          "base_uri": "https://localhost:8080/",
          "height": 447
        },
        "id": "s06bjHIgNrtd",
        "outputId": "50db8a31-4c60-4440-8db5-1544463dc411"
      },
      "execution_count": 29,
      "outputs": [
        {
          "output_type": "execute_result",
          "data": {
            "text/plain": [
              "<matplotlib.image.AxesImage at 0x7d6c78f22c80>"
            ]
          },
          "metadata": {},
          "execution_count": 29
        },
        {
          "output_type": "display_data",
          "data": {
            "text/plain": [
              "<Figure size 640x480 with 1 Axes>"
            ],
            "image/png": "[encoded data removed]"
          },
          "metadata": {}
        }
      ]
    },
    {
      "cell_type": "code",
      "source": [
        "predictions=model.predict(x_test)"
      ],
      "metadata": {
        "colab": {
          "base_uri": "https://localhost:8080/"
        },
        "id": "il1cNKeZNxMf",
        "outputId": "401cac7e-15b1-4720-ba3b-0a1850beddf3"
      },
      "execution_count": 30,
      "outputs": [
        {
          "output_type": "stream",
          "name": "stdout",
          "text": [
            "313/313 [==============================] - 1s 2ms/step\n"
          ]
        }
      ]
    },
    {
      "cell_type": "code",
      "source": [
        "np.argmax(predictions[11])"
      ],
      "metadata": {
        "colab": {
          "base_uri": "https://localhost:8080/"
        },
        "id": "5VMS9XymN9R4",
        "outputId": "39334cd5-5ac2-44f2-baa5-6eb7fed27801"
      },
      "execution_count": 31,
      "outputs": [
        {
          "output_type": "execute_result",
          "data": {
            "text/plain": [
              "6"
            ]
          },
          "metadata": {},
          "execution_count": 31
        }
      ]
    },
    {
      "cell_type": "code",
      "source": [
        "print(predictions[11])"
      ],
      "metadata": {
        "colab": {
          "base_uri": "https://localhost:8080/"
        },
        "id": "IoCUI_vOOD6m",
        "outputId": "52ddc947-213b-4e64-9a75-2036f0914d41"
      },
      "execution_count": 32,
      "outputs": [
        {
          "output_type": "stream",
          "name": "stdout",
          "text": [
            "[1.8956097e-02 1.2882175e-03 8.6450331e-02 4.9172454e-03 5.3649120e-02\n",
            " 5.6357519e-03 7.7354485e-01 3.9933727e-04 4.4985555e-02 1.0173458e-02]\n"
          ]
        }
      ]
    },
    {
      "cell_type": "code",
      "source": [
        "plt.imshow(x_test_old[30], cmap=plt.cm.binary)\n"
      ],
      "metadata": {
        "colab": {
          "base_uri": "https://localhost:8080/",
          "height": 447
        },
        "id": "sXXDdADoOmz5",
        "outputId": "88994a2f-67d3-4deb-8f09-29cb442fe962"
      },
      "execution_count": 39,
      "outputs": [
        {
          "output_type": "execute_result",
          "data": {
            "text/plain": [
              "<matplotlib.image.AxesImage at 0x7d6c78e724a0>"
            ]
          },
          "metadata": {},
          "execution_count": 39
        },
        {
          "output_type": "display_data",
          "data": {
            "text/plain": [
              "<Figure size 640x480 with 1 Axes>"
            ],
            "image/png": "[encoded data removed]"
          },
          "metadata": {}
        }
      ]
    },
    {
      "cell_type": "code",
      "source": [
        "np.argmax(predictions[30])"
      ],
      "metadata": {
        "colab": {
          "base_uri": "https://localhost:8080/"
        },
        "id": "4St4nL9LOsYY",
        "outputId": "14fd4f78-6e9b-4b02-bd46-9d3912d643be"
      },
      "execution_count": 40,
      "outputs": [
        {
          "output_type": "execute_result",
          "data": {
            "text/plain": [
              "3"
            ]
          },
          "metadata": {},
          "execution_count": 40
        }
      ]
    }
  ]
}